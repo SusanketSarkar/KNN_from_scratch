{
  "nbformat": 4,
  "nbformat_minor": 0,
  "metadata": {
    "colab": {
      "name": "01-my-KNN~~",
      "provenance": [],
      "collapsed_sections": []
    },
    "kernelspec": {
      "name": "python3",
      "display_name": "Python 3"
    },
    "language_info": {
      "name": "python"
    }
  },
  "cells": [
    {
      "cell_type": "markdown",
      "metadata": {
        "id": "OQ5iKzQMGZ2K"
      },
      "source": [
        "## **K Nearest Neighbours**"
      ]
    },
    {
      "cell_type": "markdown",
      "source": [
        "This is a short tutorial to implementing the KNN algorithm from scratch."
      ],
      "metadata": {
        "id": "4ZvfO8SOw9pe"
      }
    },
    {
      "cell_type": "markdown",
      "source": [
        "We first import all the necessary libraries."
      ],
      "metadata": {
        "id": "b_h0W7F2EWgP"
      }
    },
    {
      "cell_type": "code",
      "metadata": {
        "id": "KJlz0h6ME8qS"
      },
      "source": [
        "# Importing Important libraries\n",
        "import numpy as np\n",
        "import pandas as pd\n",
        "import matplotlib.pyplot as plt\n",
        "import math\n",
        "from sklearn.model_selection import train_test_split as splt\n",
        "from sklearn.metrics import mean_squared_error \n",
        "from sklearn.preprocessing import StandardScaler as ss"
      ],
      "execution_count": null,
      "outputs": []
    },
    {
      "cell_type": "markdown",
      "metadata": {
        "id": "6nEgvH91GrfC"
      },
      "source": [
        "##Part 01: **Data**\n",
        "You can download the dataset from [here](https://archive.ics.uci.edu/ml/datasets/abalone)."
      ]
    },
    {
      "cell_type": "code",
      "metadata": {
        "colab": {
          "base_uri": "https://localhost:8080/",
          "height": 174
        },
        "id": "-k9OzPB0H84Z",
        "outputId": "55f8aee1-f3d8-4ce0-c1b3-11706b609c49"
      },
      "source": [
        "# Reading the Data\n",
        "data = pd.read_csv('abalone.csv')\n",
        "# Visualizing the data\n",
        "data.head(4)"
      ],
      "execution_count": null,
      "outputs": [
        {
          "output_type": "execute_result",
          "data": {
            "text/html": [
              "<div>\n",
              "<style scoped>\n",
              "    .dataframe tbody tr th:only-of-type {\n",
              "        vertical-align: middle;\n",
              "    }\n",
              "\n",
              "    .dataframe tbody tr th {\n",
              "        vertical-align: top;\n",
              "    }\n",
              "\n",
              "    .dataframe thead th {\n",
              "        text-align: right;\n",
              "    }\n",
              "</style>\n",
              "<table border=\"1\" class=\"dataframe\">\n",
              "  <thead>\n",
              "    <tr style=\"text-align: right;\">\n",
              "      <th></th>\n",
              "      <th>Sex</th>\n",
              "      <th>Length</th>\n",
              "      <th>Diameter</th>\n",
              "      <th>Height</th>\n",
              "      <th>Whole weight</th>\n",
              "      <th>Shucked weight</th>\n",
              "      <th>Viscera weight</th>\n",
              "      <th>Shell weight</th>\n",
              "      <th>Rings</th>\n",
              "    </tr>\n",
              "  </thead>\n",
              "  <tbody>\n",
              "    <tr>\n",
              "      <th>0</th>\n",
              "      <td>M</td>\n",
              "      <td>0.455</td>\n",
              "      <td>0.365</td>\n",
              "      <td>0.095</td>\n",
              "      <td>0.5140</td>\n",
              "      <td>0.2245</td>\n",
              "      <td>0.1010</td>\n",
              "      <td>0.150</td>\n",
              "      <td>15</td>\n",
              "    </tr>\n",
              "    <tr>\n",
              "      <th>1</th>\n",
              "      <td>M</td>\n",
              "      <td>0.350</td>\n",
              "      <td>0.265</td>\n",
              "      <td>0.090</td>\n",
              "      <td>0.2255</td>\n",
              "      <td>0.0995</td>\n",
              "      <td>0.0485</td>\n",
              "      <td>0.070</td>\n",
              "      <td>7</td>\n",
              "    </tr>\n",
              "    <tr>\n",
              "      <th>2</th>\n",
              "      <td>F</td>\n",
              "      <td>0.530</td>\n",
              "      <td>0.420</td>\n",
              "      <td>0.135</td>\n",
              "      <td>0.6770</td>\n",
              "      <td>0.2565</td>\n",
              "      <td>0.1415</td>\n",
              "      <td>0.210</td>\n",
              "      <td>9</td>\n",
              "    </tr>\n",
              "    <tr>\n",
              "      <th>3</th>\n",
              "      <td>M</td>\n",
              "      <td>0.440</td>\n",
              "      <td>0.365</td>\n",
              "      <td>0.125</td>\n",
              "      <td>0.5160</td>\n",
              "      <td>0.2155</td>\n",
              "      <td>0.1140</td>\n",
              "      <td>0.155</td>\n",
              "      <td>10</td>\n",
              "    </tr>\n",
              "  </tbody>\n",
              "</table>\n",
              "</div>"
            ],
            "text/plain": [
              "  Sex  Length  Diameter  ...  Viscera weight  Shell weight  Rings\n",
              "0   M   0.455     0.365  ...          0.1010         0.150     15\n",
              "1   M   0.350     0.265  ...          0.0485         0.070      7\n",
              "2   F   0.530     0.420  ...          0.1415         0.210      9\n",
              "3   M   0.440     0.365  ...          0.1140         0.155     10\n",
              "\n",
              "[4 rows x 9 columns]"
            ]
          },
          "metadata": {},
          "execution_count": 4
        }
      ]
    },
    {
      "cell_type": "code",
      "metadata": {
        "colab": {
          "base_uri": "https://localhost:8080/",
          "height": 423
        },
        "id": "h1nBYhbMIVEo",
        "outputId": "baf57df6-85db-4394-d6c6-5729706146f4"
      },
      "source": [
        "# Dividing into train and test\n",
        "train, test = splt(data, test_size = 0.2, random_state = 1)\n",
        "train"
      ],
      "execution_count": null,
      "outputs": [
        {
          "output_type": "execute_result",
          "data": {
            "text/html": [
              "<div>\n",
              "<style scoped>\n",
              "    .dataframe tbody tr th:only-of-type {\n",
              "        vertical-align: middle;\n",
              "    }\n",
              "\n",
              "    .dataframe tbody tr th {\n",
              "        vertical-align: top;\n",
              "    }\n",
              "\n",
              "    .dataframe thead th {\n",
              "        text-align: right;\n",
              "    }\n",
              "</style>\n",
              "<table border=\"1\" class=\"dataframe\">\n",
              "  <thead>\n",
              "    <tr style=\"text-align: right;\">\n",
              "      <th></th>\n",
              "      <th>Sex</th>\n",
              "      <th>Length</th>\n",
              "      <th>Diameter</th>\n",
              "      <th>Height</th>\n",
              "      <th>Whole weight</th>\n",
              "      <th>Shucked weight</th>\n",
              "      <th>Viscera weight</th>\n",
              "      <th>Shell weight</th>\n",
              "      <th>Rings</th>\n",
              "    </tr>\n",
              "  </thead>\n",
              "  <tbody>\n",
              "    <tr>\n",
              "      <th>666</th>\n",
              "      <td>M</td>\n",
              "      <td>0.455</td>\n",
              "      <td>0.350</td>\n",
              "      <td>0.120</td>\n",
              "      <td>0.4835</td>\n",
              "      <td>0.1815</td>\n",
              "      <td>0.1440</td>\n",
              "      <td>0.1600</td>\n",
              "      <td>11</td>\n",
              "    </tr>\n",
              "    <tr>\n",
              "      <th>2813</th>\n",
              "      <td>I</td>\n",
              "      <td>0.255</td>\n",
              "      <td>0.195</td>\n",
              "      <td>0.055</td>\n",
              "      <td>0.0725</td>\n",
              "      <td>0.0285</td>\n",
              "      <td>0.0170</td>\n",
              "      <td>0.0210</td>\n",
              "      <td>4</td>\n",
              "    </tr>\n",
              "    <tr>\n",
              "      <th>1862</th>\n",
              "      <td>I</td>\n",
              "      <td>0.520</td>\n",
              "      <td>0.410</td>\n",
              "      <td>0.110</td>\n",
              "      <td>0.5185</td>\n",
              "      <td>0.2165</td>\n",
              "      <td>0.0915</td>\n",
              "      <td>0.1840</td>\n",
              "      <td>8</td>\n",
              "    </tr>\n",
              "    <tr>\n",
              "      <th>3684</th>\n",
              "      <td>I</td>\n",
              "      <td>0.620</td>\n",
              "      <td>0.470</td>\n",
              "      <td>0.155</td>\n",
              "      <td>0.9660</td>\n",
              "      <td>0.4470</td>\n",
              "      <td>0.1710</td>\n",
              "      <td>0.2840</td>\n",
              "      <td>11</td>\n",
              "    </tr>\n",
              "    <tr>\n",
              "      <th>551</th>\n",
              "      <td>I</td>\n",
              "      <td>0.615</td>\n",
              "      <td>0.490</td>\n",
              "      <td>0.155</td>\n",
              "      <td>0.9885</td>\n",
              "      <td>0.4145</td>\n",
              "      <td>0.1950</td>\n",
              "      <td>0.3450</td>\n",
              "      <td>13</td>\n",
              "    </tr>\n",
              "    <tr>\n",
              "      <th>...</th>\n",
              "      <td>...</td>\n",
              "      <td>...</td>\n",
              "      <td>...</td>\n",
              "      <td>...</td>\n",
              "      <td>...</td>\n",
              "      <td>...</td>\n",
              "      <td>...</td>\n",
              "      <td>...</td>\n",
              "      <td>...</td>\n",
              "    </tr>\n",
              "    <tr>\n",
              "      <th>2895</th>\n",
              "      <td>I</td>\n",
              "      <td>0.540</td>\n",
              "      <td>0.415</td>\n",
              "      <td>0.110</td>\n",
              "      <td>0.6190</td>\n",
              "      <td>0.2755</td>\n",
              "      <td>0.1500</td>\n",
              "      <td>0.1765</td>\n",
              "      <td>10</td>\n",
              "    </tr>\n",
              "    <tr>\n",
              "      <th>2763</th>\n",
              "      <td>I</td>\n",
              "      <td>0.550</td>\n",
              "      <td>0.425</td>\n",
              "      <td>0.135</td>\n",
              "      <td>0.6560</td>\n",
              "      <td>0.2570</td>\n",
              "      <td>0.1700</td>\n",
              "      <td>0.2030</td>\n",
              "      <td>10</td>\n",
              "    </tr>\n",
              "    <tr>\n",
              "      <th>905</th>\n",
              "      <td>I</td>\n",
              "      <td>0.320</td>\n",
              "      <td>0.240</td>\n",
              "      <td>0.090</td>\n",
              "      <td>0.1575</td>\n",
              "      <td>0.0700</td>\n",
              "      <td>0.0265</td>\n",
              "      <td>0.0425</td>\n",
              "      <td>5</td>\n",
              "    </tr>\n",
              "    <tr>\n",
              "      <th>3980</th>\n",
              "      <td>F</td>\n",
              "      <td>0.525</td>\n",
              "      <td>0.410</td>\n",
              "      <td>0.115</td>\n",
              "      <td>0.7745</td>\n",
              "      <td>0.4160</td>\n",
              "      <td>0.1630</td>\n",
              "      <td>0.1800</td>\n",
              "      <td>7</td>\n",
              "    </tr>\n",
              "    <tr>\n",
              "      <th>235</th>\n",
              "      <td>I</td>\n",
              "      <td>0.295</td>\n",
              "      <td>0.225</td>\n",
              "      <td>0.080</td>\n",
              "      <td>0.1240</td>\n",
              "      <td>0.0485</td>\n",
              "      <td>0.0320</td>\n",
              "      <td>0.0400</td>\n",
              "      <td>9</td>\n",
              "    </tr>\n",
              "  </tbody>\n",
              "</table>\n",
              "<p>3341 rows × 9 columns</p>\n",
              "</div>"
            ],
            "text/plain": [
              "     Sex  Length  Diameter  ...  Viscera weight  Shell weight  Rings\n",
              "666    M   0.455     0.350  ...          0.1440        0.1600     11\n",
              "2813   I   0.255     0.195  ...          0.0170        0.0210      4\n",
              "1862   I   0.520     0.410  ...          0.0915        0.1840      8\n",
              "3684   I   0.620     0.470  ...          0.1710        0.2840     11\n",
              "551    I   0.615     0.490  ...          0.1950        0.3450     13\n",
              "...   ..     ...       ...  ...             ...           ...    ...\n",
              "2895   I   0.540     0.415  ...          0.1500        0.1765     10\n",
              "2763   I   0.550     0.425  ...          0.1700        0.2030     10\n",
              "905    I   0.320     0.240  ...          0.0265        0.0425      5\n",
              "3980   F   0.525     0.410  ...          0.1630        0.1800      7\n",
              "235    I   0.295     0.225  ...          0.0320        0.0400      9\n",
              "\n",
              "[3341 rows x 9 columns]"
            ]
          },
          "metadata": {},
          "execution_count": 5
        }
      ]
    },
    {
      "cell_type": "code",
      "metadata": {
        "id": "Ere493TJJNa3"
      },
      "source": [
        "# Dividing into two features\n",
        "x1tr = train['Diameter']\n",
        "x2tr = train['Length']\n",
        "x1te = test['Diameter']\n",
        "x2te = test['Length']\n",
        "ytr = train['Sex']\n",
        "yte = test['Sex']"
      ],
      "execution_count": null,
      "outputs": []
    },
    {
      "cell_type": "markdown",
      "metadata": {
        "id": "f046hZaEJtu3"
      },
      "source": [
        "Part02:  Main Functions "
      ]
    },
    {
      "cell_type": "code",
      "metadata": {
        "id": "GF8fM14gJnCw"
      },
      "source": [
        "# Defining the functions that calculates the Euclidian distance between two points\n",
        "def eucli_dist(x1, y1, x2, y2):\n",
        "    return math.sqrt((x1-x2)**2+(y1-y2)**2)"
      ],
      "execution_count": null,
      "outputs": []
    },
    {
      "cell_type": "code",
      "metadata": {
        "id": "SiFlo3cPKtEX"
      },
      "source": [
        "# Defining the functions that calculates the Manhatten distance between two points\n",
        "def man_dist(x1, y1, x2, y2):\n",
        "    return abs(x1-x2)+abs(y1-y2)"
      ],
      "execution_count": null,
      "outputs": []
    },
    {
      "cell_type": "code",
      "metadata": {
        "id": "XRnCAAGFLtRv"
      },
      "source": [
        "def voting (a, y):\n",
        "    l = []\n",
        "    for i in range(len(a)):\n",
        "        b = a[i][0]\n",
        "        l.append(y[b])\n",
        "        res = max(set(l), key = l.count)\n",
        "        return res"
      ],
      "execution_count": null,
      "outputs": []
    },
    {
      "cell_type": "code",
      "metadata": {
        "id": "F0OIEWh1LZ2I"
      },
      "source": [
        "# Function to calculate the label for a given data and k\n",
        "def knn(xtr,xte,ytr,yte,k=1 , m = False, e = False):\n",
        "    iid = xtr.index\n",
        "    jid = xte.index  \n",
        "    y_pred = []  \n",
        "    for j in jid:\n",
        "        index = []\n",
        "        dista = []\n",
        "        \n",
        "        for i in iid:\n",
        "            a = xtr[i]\n",
        "            b = ytr[i]\n",
        "            c = xte[j]\n",
        "            d = yte[j]\n",
        "            if e == True:\n",
        "                dist = eucli_dist(a,b,c,d)\n",
        "            elif m == True:\n",
        "                dist = man_dist(a,b,c,d)\n",
        "            index.append(i)\n",
        "            dista.append(dist)\n",
        "        k_min_list = sorted(zip(index,dista), key=lambda t: t[1])[k:]\n",
        "        label = voting(k_min_list, ytr)\n",
        "        y_pred.append([j,label])\n",
        "    return y_pred   "
      ],
      "execution_count": null,
      "outputs": []
    },
    {
      "cell_type": "code",
      "metadata": {
        "id": "9s-9j8UpNRSW"
      },
      "source": [
        "# Definig the KNN function\n",
        "# The function takes 2 features with 1 label of train and 2 feature of test and predict label of test\n",
        "# Input: a,b,c,d 4 features, e,m euc or man, y label for test, ypred label for test, value of k\n",
        "# Output: No Outputs\n",
        "def KNN(a, b, c, d,  y, k = 1, e = False, m = False):\n",
        "    iid = c.index\n",
        "    jid = a.index\n",
        "    ypred = [None]*(len(jid)+len(iid))\n",
        "    for i in iid:\n",
        "        l = [None]*(len(jid)+len(iid))\n",
        "        for j in jid:\n",
        "            p = a[j]\n",
        "            q = b[j]\n",
        "            r = c[i]\n",
        "            s = d[i]\n",
        "            if m == True:\n",
        "                dist = man_dist(p,q,r,s)\n",
        "            else: dist = eucli_dist(p,q,r,s)\n",
        "            l[j] = dist\n",
        "        res = voting(l,k,y)\n",
        "        ypred[i] = res\n",
        "    return ypred"
      ],
      "execution_count": null,
      "outputs": []
    },
    {
      "cell_type": "code",
      "metadata": {
        "id": "9NhkPDqNQ3HD"
      },
      "source": [
        "# Defining other functions\n",
        "# Goal: The function calcs min k distances from a list compares from another list and send predictions of each test\n",
        "# Inputs: list of dist, value of k, y label for train\n",
        "# Outputs: gives prediction for a single test\n",
        "def voting(l, k, y):\n",
        "    for i in range(len(l)):\n",
        "        if l[i] == None:\n",
        "            l[i] = 1000\n",
        "    res = sorted(range(len(l)), key = lambda sub: l[sub])[:k]\n",
        "    new = []\n",
        "    for i in res:\n",
        "        new.append(y[i])\n",
        "    r = max(set(new), key = new.count)\n",
        "    return r"
      ],
      "execution_count": null,
      "outputs": []
    },
    {
      "cell_type": "markdown",
      "metadata": {
        "id": "4UoHNsS7d-XX"
      },
      "source": [
        "Part 03: Testing on Data "
      ]
    },
    {
      "cell_type": "code",
      "metadata": {
        "id": "HxAp2z-tWHFy"
      },
      "source": [
        "# Testing on the data\n",
        "y_pred = []\n",
        "y_pred = KNN(x1tr,x2tr,x1te,x2te,ytr,k=5,e=True)"
      ],
      "execution_count": null,
      "outputs": []
    },
    {
      "cell_type": "code",
      "metadata": {
        "colab": {
          "base_uri": "https://localhost:8080/"
        },
        "id": "a8W-WEr1YCSZ",
        "outputId": "58edee98-2e37-4a5b-badc-e267af577a16"
      },
      "source": [
        "print(y_pred)"
      ],
      "execution_count": null,
      "outputs": [
        {
          "output_type": "stream",
          "name": "stdout",
          "text": [
            "[None, 'M', None, 'I', None, None, 'F', 'F', None, None, None, None, None, 'M', None, None, None, 'I', None, 'M', None, 'I', None, None, None, None, None, None, 'F', None, None, None, None, None, None, None, None, 'I', None, None, 'I', None, None, None, 'I', 'F', None, None, None, None, 'F', None, None, None, None, None, None, None, 'I', None, None, None, 'M', None, None, None, None, None, None, None, None, None, None, None, None, None, None, None, None, 'F', None, None, None, None, None, None, None, None, None, None, 'I', None, None, 'M', 'F', None, None, None, 'I', 'M', None, None, 'M', None, None, None, None, 'F', 'F', None, 'F', 'M', None, None, None, None, None, None, None, None, None, None, None, 'I', None, None, 'I', None, None, None, None, None, None, 'I', None, None, 'I', None, None, None, None, None, None, None, None, None, None, None, None, None, None, None, None, None, None, None, None, 'M', None, None, None, 'F', None, None, None, None, None, None, None, 'M', None, 'I', None, None, None, None, None, None, None, None, None, 'F', None, None, None, None, 'M', 'F', None, None, None, None, None, None, 'F', None, None, None, None, None, 'I', 'F', None, 'M', None, None, None, None, None, None, 'F', None, None, None, None, None, None, None, None, 'I', None, None, None, None, 'I', None, None, None, None, None, 'M', 'F', None, None, None, None, None, None, None, None, None, None, None, None, None, None, None, None, None, None, None, None, None, None, 'M', 'M', 'M', None, None, None, None, None, 'I', None, None, None, None, None, 'F', None, None, None, None, None, None, None, None, None, None, None, 'F', None, None, None, None, None, None, None, None, None, None, None, 'M', None, None, None, None, None, None, 'I', None, None, None, None, None, None, 'I', None, None, None, None, None, None, None, 'F', None, None, None, 'F', None, None, 'I', None, None, None, 'I', None, None, None, None, None, 'F', 'I', None, None, None, None, None, None, None, None, None, None, None, None, 'F', None, None, None, 'M', None, 'F', None, None, None, None, None, None, None, 'M', None, None, None, None, 'F', None, 'M', None, 'M', None, None, None, 'F', None, None, None, None, None, None, None, None, None, None, 'M', None, None, 'F', None, None, 'M', None, None, None, 'M', 'M', None, None, None, 'M', 'M', None, None, None, 'F', None, None, None, 'M', None, None, None, None, None, None, None, None, 'F', None, None, None, 'F', 'M', None, None, None, None, None, 'F', None, None, None, None, None, None, None, 'F', None, None, 'I', None, 'I', None, None, 'I', None, None, None, None, None, None, None, None, None, 'F', None, None, None, None, None, None, None, None, None, None, None, None, None, None, None, None, None, None, None, None, None, None, None, None, None, None, None, 'M', None, None, None, None, 'F', 'M', None, None, 'F', None, None, None, 'M', 'M', None, None, 'F', None, None, None, None, None, None, None, None, None, None, None, None, None, None, None, None, None, None, 'I', 'I', None, None, None, None, None, None, 'I', None, None, None, None, None, None, None, None, 'I', None, None, None, None, None, None, 'F', None, None, 'I', None, None, None, None, None, None, None, None, None, None, 'F', None, 'M', 'F', None, 'I', None, None, 'F', None, None, None, None, None, None, None, None, None, None, 'M', None, None, 'F', None, None, None, None, None, None, None, None, None, 'M', 'I', 'I', None, None, 'F', None, None, None, None, None, 'F', None, None, None, None, None, None, 'I', None, None, 'F', None, 'I', None, None, 'F', None, None, None, None, None, None, None, None, None, None, None, None, None, None, None, None, 'I', None, 'F', None, None, None, 'I', None, None, None, None, None, None, None, 'I', 'I', None, None, None, None, 'I', None, None, None, None, None, None, None, None, None, None, 'I', 'M', None, 'I', None, None, None, None, None, None, 'M', None, None, None, None, None, None, 'F', None, None, None, None, None, None, 'F', None, None, None, None, None, None, None, None, None, 'I', None, None, None, None, 'I', 'M', None, 'I', None, 'I', None, None, None, 'I', 'I', None, None, None, None, None, None, None, 'I', 'I', None, None, None, None, 'M', None, 'M', None, None, None, None, None, None, None, None, None, None, None, None, 'I', None, None, None, None, None, 'I', None, None, 'M', 'M', None, None, None, None, None, None, None, 'F', None, None, None, 'M', None, 'F', None, None, None, None, None, 'F', None, 'I', 'I', 'I', None, None, None, None, 'F', 'F', None, 'M', None, None, 'I', None, None, 'F', None, None, 'F', 'I', 'I', None, None, None, 'M', None, None, 'I', None, None, None, None, 'I', None, None, None, 'I', None, None, None, None, 'I', None, None, None, None, None, None, None, None, None, 'I', None, None, None, None, None, 'F', None, None, None, None, 'F', None, None, None, None, None, None, None, None, None, None, 'M', None, None, None, None, None, None, None, None, 'M', None, None, 'M', None, None, None, None, None, None, None, None, None, None, None, None, 'M', None, None, None, None, None, None, None, None, None, 'M', 'M', None, None, None, None, None, None, None, None, None, 'F', None, 'I', None, 'I', None, None, None, 'I', None, None, 'I', None, None, None, 'I', None, None, None, None, None, None, 'F', None, None, None, None, None, None, None, None, None, None, None, None, None, None, None, 'I', None, 'F', 'M', None, None, None, 'I', None, None, None, None, 'F', None, 'I', None, 'F', None, None, None, None, None, None, None, 'M', None, 'F', None, 'M', None, None, 'F', None, None, None, None, 'F', None, None, None, None, None, None, None, None, None, None, None, None, None, None, None, None, None, None, 'F', None, 'M', None, 'M', None, 'F', None, None, 'F', 'M', None, None, None, None, None, None, None, None, None, 'M', None, 'F', None, None, None, None, None, 'F', None, None, None, None, None, None, None, None, None, None, None, None, None, None, None, 'M', None, 'M', None, None, None, None, None, 'M', None, 'M', None, None, None, None, None, None, None, None, 'F', None, None, None, None, None, None, None, None, None, None, None, None, 'I', None, None, None, 'I', 'I', None, None, None, None, 'I', None, None, 'I', 'I', None, None, None, 'I', None, None, None, None, None, None, None, None, 'F', None, None, None, None, None, 'F', 'M', None, None, None, None, 'F', None, None, 'M', None, 'I', None, None, None, None, None, None, None, None, None, None, None, None, None, None, None, 'F', None, 'F', None, None, 'M', 'F', None, 'M', None, None, 'M', None, None, None, 'F', None, None, None, None, 'M', 'M', None, 'F', None, None, None, None, None, None, None, None, None, None, None, None, 'F', None, None, 'F', None, None, 'M', 'M', 'F', None, None, 'F', None, None, None, 'F', None, 'F', None, None, None, 'M', None, 'F', None, None, None, None, None, 'M', None, None, None, 'M', None, None, None, None, None, 'F', None, None, None, None, None, None, None, None, None, None, None, None, None, None, None, None, None, 'I', None, None, 'M', None, None, None, None, None, None, None, None, 'M', None, 'M', None, None, None, None, 'F', None, None, None, None, 'I', None, 'I', None, None, None, None, None, None, None, None, None, None, None, None, None, None, None, None, None, None, None, None, None, None, None, None, None, None, None, None, None, None, None, None, None, 'F', None, None, None, None, None, None, None, 'M', None, None, None, None, None, None, None, None, None, 'F', None, None, None, None, 'F', 'F', None, 'F', None, 'I', None, None, None, None, None, None, None, None, None, None, None, None, None, None, None, None, None, None, None, None, 'I', None, None, None, None, None, 'F', 'F', 'M', None, None, None, None, None, None, None, 'F', None, None, None, None, None, 'F', None, None, None, None, None, None, 'M', None, None, None, None, None, None, None, None, None, None, None, None, 'M', None, None, None, None, None, None, None, None, None, None, None, None, 'M', None, None, 'M', None, None, None, None, None, 'F', 'F', None, None, None, 'F', None, None, None, 'M', None, None, 'F', None, 'M', None, None, 'M', 'M', None, None, None, 'M', None, 'M', None, 'M', None, None, None, None, None, None, 'F', None, None, 'F', None, None, None, None, None, None, None, None, None, 'I', None, None, 'I', None, None, 'I', None, None, None, None, None, None, None, None, 'I', 'I', None, None, None, 'I', 'F', None, None, None, 'I', None, None, None, None, None, None, None, None, None, None, None, None, None, None, None, None, None, 'F', None, None, None, None, None, None, None, None, None, None, None, None, 'F', None, None, None, None, None, None, 'F', None, 'F', None, None, None, 'M', 'M', 'M', None, None, 'M', None, 'M', None, None, None, None, None, None, None, None, None, 'F', 'M', 'M', None, None, None, None, 'M', None, None, None, None, None, None, None, None, 'I', 'M', None, None, None, None, 'I', None, 'I', None, None, None, 'I', None, 'I', 'I', None, None, None, None, 'I', None, 'I', None, None, 'I', None, 'I', None, 'F', 'I', 'F', 'I', None, None, None, None, None, None, None, None, None, None, None, None, None, None, None, None, None, 'I', None, 'M', 'F', None, None, None, None, None, None, None, None, 'I', None, None, None, None, None, None, None, 'M', None, None, 'M', 'I', None, 'M', None, None, 'I', None, None, None, None, None, None, None, 'I', None, None, 'F', None, None, None, None, None, None, None, None, None, None, None, 'M', 'M', None, None, None, 'F', 'M', None, None, None, None, None, 'M', None, 'M', None, None, 'M', None, None, None, None, 'M', None, 'M', None, None, None, None, None, None, None, None, 'M', None, None, None, None, None, 'M', None, None, None, None, 'F', None, None, 'F', 'F', 'M', None, None, None, None, None, None, None, None, None, None, 'M', 'F', 'F', None, None, None, None, 'M', None, None, None, 'M', 'M', None, 'M', None, None, None, None, None, None, None, None, None, None, None, None, 'F', None, None, None, None, None, 'M', None, None, None, None, None, 'M', 'M', 'F', None, None, None, None, None, None, None, None, None, None, None, None, None, None, None, None, 'F', None, None, None, 'M', None, 'F', None, None, None, None, None, None, None, None, None, None, None, 'M', 'I', None, None, None, None, None, None, None, None, None, None, 'M', 'F', None, 'M', None, None, None, None, None, None, 'F', None, None, None, None, None, None, None, 'M', None, None, 'M', None, None, 'F', None, None, None, None, None, None, 'M', None, None, None, 'F', None, None, None, 'F', None, None, None, None, None, None, None, None, 'I', None, None, None, None, None, None, None, None, None, None, None, None, None, None, 'M', 'I', None, 'F', None, 'I', None, None, None, None, None, None, None, 'F', None, None, 'F', None, 'I', None, None, None, None, None, None, None, 'F', None, 'M', None, None, None, None, None, 'F', None, None, None, 'M', None, None, None, None, None, None, 'F', 'F', None, 'M', 'F', None, None, None, None, None, None, None, None, None, 'F', 'M', None, 'M', None, None, None, None, None, None, 'F', None, None, 'M', None, None, 'M', None, 'F', None, None, None, None, None, None, None, None, None, None, None, None, None, 'M', None, None, 'M', None, 'F', None, 'F', None, 'F', None, None, 'F', None, None, 'M', None, None, None, None, None, 'M', 'M', None, 'M', None, 'M', None, None, None, None, None, None, None, None, 'M', None, None, None, None, None, None, None, None, None, None, None, None, 'I', None, None, None, None, 'I', None, 'I', None, 'I', None, None, None, 'M', 'I', None, None, None, None, None, None, None, 'I', 'I', 'I', None, None, None, None, 'I', None, None, None, None, None, None, 'I', None, None, None, None, None, 'M', None, None, None, 'F', None, None, None, None, None, None, 'I', 'I', None, None, None, None, 'I', None, None, None, None, None, None, None, 'I', None, None, None, None, None, None, None, None, None, None, None, None, None, None, None, None, None, None, None, 'F', None, None, None, None, 'M', None, None, None, None, None, 'F', None, None, None, 'F', None, None, None, None, None, None, None, None, 'F', None, None, None, None, 'I', None, 'F', None, None, None, None, None, None, None, None, None, None, 'I', None, None, 'M', 'F', None, None, None, None, 'I', None, 'F', None, None, 'F', None, None, 'F', None, None, 'I', None, None, None, 'F', None, None, 'I', None, None, None, None, None, None, None, 'M', None, None, None, None, 'F', None, None, None, None, None, None, None, None, None, None, 'I', None, None, None, None, None, None, None, None, None, None, None, None, 'F', None, None, None, None, None, None, None, None, 'I', None, 'M', None, None, None, None, None, None, None, None, None, None, None, None, None, None, None, None, None, None, None, None, None, None, None, None, None, None, 'F', None, None, None, None, None, 'M', None, 'M', None, None, None, None, None, None, None, None, None, None, 'F', None, None, None, 'I', None, None, None, None, None, None, None, None, 'M', None, None, None, None, None, None, None, None, None, 'M', None, None, None, 'M', None, None, None, None, None, None, 'F', None, None, 'M', None, None, None, None, None, None, None, None, 'F', None, None, None, None, None, None, None, None, None, None, 'I', None, None, 'I', None, None, 'F', None, None, None, 'F', None, None, None, None, None, None, None, None, None, None, None, None, None, None, 'M', None, None, None, None, None, None, 'I', None, None, 'M', 'F', None, None, None, None, None, None, 'M', None, 'M', None, None, None, None, 'I', None, None, None, None, None, None, None, None, None, None, 'F', None, None, 'M', None, 'F', None, 'F', 'F', None, None, None, None, None, None, None, None, None, None, 'M', 'I', 'M', None, None, None, 'I', None, None, None, 'I', None, None, None, None, None, 'M', None, None, None, None, None, 'M', None, None, None, 'I', None, None, None, 'I', None, None, None, None, None, None, None, None, None, None, None, None, 'I', None, None, None, 'M', None, 'I', None, None, None, None, 'I', None, None, None, None, None, None, None, 'F', None, None, None, None, None, None, None, None, 'I', None, 'I', None, 'M', None, None, None, None, None, None, None, 'I', 'I', None, None, None, None, None, None, None, None, 'I', None, None, None, None, None, None, 'M', 'M', None, None, None, None, None, None, 'I', None, None, None, None, None, 'M', None, None, None, None, None, None, None, 'F', None, 'F', None, None, None, None, None, None, 'I', None, None, None, None, 'I', None, None, None, None, None, 'M', None, 'I', None, None, None, None, None, None, None, None, None, 'F', None, 'F', None, None, None, None, None, None, None, None, None, None, None, None, None, None, 'M', None, None, None, None, None, None, None, None, 'I', None, None, None, None, 'I', None, 'F', None, None, None, None, None, None, None, None, None, None, None, None, None, None, 'F', 'M', None, None, 'F', None, None, None, None, None, None, 'I', None, None, None, None, None, None, None, None, None, None, None, None, None, 'M', None, None, None, 'M', 'F', 'F', 'F', None, None, None, None, None, None, 'F', None, None, None, 'M', None, None, 'F', None, 'M', 'M', 'M', None, None, None, None, 'I', None, None, 'F', None, None, None, None, None, None, 'M', 'I', None, None, None, None, None, None, None, None, None, None, None, None, None, None, 'M', 'I', None, None, None, 'I', 'F', None, None, 'F', None, None, None, None, None, 'M', 'M', 'F', None, None, None, None, None, None, None, None, None, None, None, None, None, None, 'M', None, None, None, None, None, None, 'M', None, None, 'M', 'M', None, None, None, 'F', None, None, 'M', 'F', None, 'M', 'F', None, 'I', None, None, None, None, None, None, None, None, None, 'I', 'I', None, None, None, None, 'I', None, 'I', None, None, None, 'I', 'I', None, None, None, 'I', None, None, None, 'I', None, None, None, None, None, None, None, 'F', None, 'M', None, None, None, None, None, None, None, None, None, None, None, None, 'M', None, None, None, None, None, None, None, 'M', 'M', None, None, None, 'M', None, None, None, None, None, None, None, None, None, None, None, None, None, None, 'F', None, None, None, 'F', None, None, None, None, None, None, None, None, None, None, 'F', None, 'M', None, None, None, None, None, 'M', 'I', None, None, None, 'I', None, 'F', None, None, None, None, None, None, None, None, None, None, None, None, None, None, None, None, None, 'F', None, None, None, None, None, None, None, None, None, None, None, 'M', None, None, None, None, None, None, None, None, None, None, None, None, 'I', None, 'I', None, None, None, None, None, None, None, None, 'F', None, None, 'I', 'M', 'F', None, None, None, 'F', 'F', None, None, 'F', None, 'M', 'M', None, None, None, None, None, None, None, 'F', None, None, None, None, None, None, None, None, None, None, None, None, None, 'F', 'F', 'M', None, None, None, None, None, None, None, 'I', None, None, None, 'F', None, 'F', 'M', None, None, None, None, None, 'F', 'F', 'M', 'M', None, None, None, None, None, 'F', None, None, None, None, None, None, None, None, None, None, None, 'F', None, None, None, 'M', None, 'F', None, None, None, None, None, 'F', None, None, None, None, None, 'I', None, None, None, None, None, 'I', None, None, 'M', None, 'I', 'M', 'F', None, None, None, 'M', None, 'F', None, None, None, None, None, 'F', None, None, None, None, None, 'I', None, None, None, None, None, None, None, 'I', None, None, 'I', None, None, None, 'M', 'I', None, 'M', None, None, None, None, None, None, 'F', None, None, None, None, 'F', None, None, None, 'F', None, 'F', None, None, 'M', None, None, None, 'F', None, None, 'F', 'M', None, None, 'M', 'M', None, None, None, None, None, 'F', 'F', None, None, None, 'F', None, None, None, 'M', None, None, 'F', None, None, None, None, None, None, None, None, None, None, None, None, None, 'I', None, None, None, None, 'F', None, None, None, None, None, None, None, None, 'I', None, 'I', None, None, None, None, 'I', None, None, None, None, None, 'M', 'M', None, None, None, None, None, None, 'M', None, None, None, None, None, None, 'I', 'I', None, None, None, None, None, 'I', None, 'I', None, None, None, 'M', None, None, None, 'M', None, None, None, None, None, None, None, None, None, None, None, 'M', 'F', None, None, 'M', None, None, None, 'M', None, None, None, None, None, None, 'F', None, None, None, None, None, None, None, 'F', None, None, None, None, None, None, None, None, None, None, None, 'I', None, None, None, 'M', None, None, None, None, None, 'I', None, None, None, None, None, None, None, None, None, None, None, None, None, None, None, None, 'M', None, None, None, None, None, None, None, None, None, 'M', None, 'M', None, None, 'M', None, None, None, None, 'M', None, None, None, None, None, None, None, None, 'F', None, None, 'M', None, None, None, None, None, None, None, None, None, None, None, 'M', None, None, None, None, None, None, 'I', None, 'F', None, None, 'F', None, None, None, None, 'M', None, None, None, None, 'F', None, None, 'F', None, 'F', None, 'F', None, 'M', None, None, None, None, None, None, 'I', None, None, None, 'M', 'M', None, None, 'I', None, None, None, 'M', None, None, None, None, 'I', None, None, None, None, None, None, 'I', None, None, 'I', None, 'M', None, None, 'F', None, None, None, None, None, None, None, None, 'F', None, None, None, 'F', None, None, None, None, 'I', None, 'F', None, None, 'I', None, None, 'I', None, None, None, None, 'M', 'M', None, None, None, None, None, None, 'I', None, None, None, None, 'F', None, None, None, None, 'F', None, None, None, None, None, None, 'F', 'F', None, None, None, None, None, None, None, None, None, None, None, None, None, None, None, None, None, 'F', None, None, 'F', None, None, None, None, None, None, None, None, None, 'F', None, None, None, None, None, None, None, None, 'I', None, None, None, 'I', None, None, None, None, None, None, 'F', None, None, 'M', None, None, None, None, None, None, None, None, None, 'M', 'M', None, None, None, None, None, None, None, None, 'M', None, None, 'I', None, 'M', None, 'I', None, 'I', 'I', None, None, 'F', None, 'M', 'M', None, None, None, 'M', None, 'M', None, None, 'M', None, None, None, None, None, None, None, None, None, 'M', None, None, None, None, 'F', None, 'M', None, None, None, None, None, None, None, None, None, None, None, None, 'I', None, None, None, None, 'I', 'I', None, None, 'M', 'I', None, None, None, None, None, 'M', None, 'I', None, 'F', None, None, None, None, None, None, None, None, None, None, 'M', None, None, None, None, None, None, 'M', None, None, None, 'F', None, 'M', None, None, None, 'M', None, 'M', None, None, 'F', None, None, 'F', None, None, None, None, None, 'F', None, None, None, None, None, None, 'M', None, None, None, None, 'F', None, 'F', None, None, None, None, None, None, None, None, None, None, None, None, None, None, None, None, None, None, 'F', None, 'F', 'F', 'M', None, None, None, None, None, None, None, None, None, None, 'I', None, None, None, None, None, None, None, 'I', None, None, 'I', None, None, 'M', None, None, None, None, None, None, None, None, None, None, 'F', None, None, None, None, None, None, None, None, None, 'M', None, None, None, 'M', None, None, None, 'M', None, None, None, None, None, None, None, None, 'F', None, None, None, None, None, None, None, None, None, None, None, None, None, 'F', None, None, None, None, None, None, None, None, None, None, 'F', 'F', None, None, 'I', None, None, None, 'F', None, None, 'F', None, None, None, None, None, None, None, None, None, None, None, 'F', None, None, None, None, None, None, None, None, None, 'I', None, None, None, None, None, None, None, None, None, None, 'M', 'F', None, None, None, None, None, None, None, None, None, None, 'M', None, None, None, None, None, None, None, None, 'F', None, None, None, None, None, None, 'F', None, None, None, 'F', None, None, 'M', 'M', None, 'M', None, None, 'F', None, None, None, None, None, None, None, None, 'I', None, None, None, 'M', 'M', 'F', None, 'I', None, 'M', None, None, None, None, None, None, None, None, 'M', None, None, None, None, None, None, None, None, None, None, 'I', None, None, None, None, None, 'F', 'F', None, 'F', 'I', 'F', None, None, None, None, None, None, 'F', 'I', None, 'F', 'F', None, None, None, None, None, None, 'M', None, None, None, None, None, None, None, None, None, None, None, None, None, None, None, None, None, None, None, None, None, None, 'F', 'F', None, None, None, None, None, 'M', None, 'M', None, None, None, None, None, None, None, None, None, None, None, None, None, None, None, None, 'M', None, None, None, 'F', None, None, None, None, None, None, None, None, 'M', None, None, 'F', None, None, None, None, None, None, None, None, None, 'F', None, 'M', 'F', 'M', None, None, None, 'M', 'F', 'F', None, None, None, 'I', 'F', None, None, None, None, 'M', 'M', None, None, None, None, 'I', None, None, None, None, None, None, None, None, None, None, None, 'F', None, None, None, None, None, None, None, 'F', None, 'M', None, None, None, None, None, None, None, None, None, None, 'I', None, None, None, 'F', None, None, None, None, None, None, None, 'F', None, None, None, None, 'M', None, None, 'M', None, None, None, None, 'I', None, None, None, None, None, None, None, None, None, None, None, 'F', None, None, None, None, None, None, None, None, 'M', 'F', None, None, 'M', None, 'M', None, 'F', None, None, None, None, None, None, None, None, None, None, None, 'I', 'I', None, None, None, None, None, None, None, None, 'M', None, None, None, None, None, None, None, None, None, 'M', None, None, None, None, None, None, None, None, None, None, None, 'F', None, None, None, None, None, None, 'F', None, None, None, None, None, 'M', None, None, None, None, None, None, 'M', 'M', None, None, None, None, None, 'F', None, None, 'F', None, None, None, None, None, 'F', None, None, None, None, None, None, 'F', None, None, None, None, None, 'F', None, None, None, 'I', 'M', None, None, 'I', None, 'M', None, None, None, None, None, None, None, None, None, None, None, None, None, None, None, None, None, 'F', 'F', None]\n"
          ]
        }
      ]
    },
    {
      "cell_type": "code",
      "metadata": {
        "colab": {
          "base_uri": "https://localhost:8080/"
        },
        "id": "DkM0tiOUC1BJ",
        "outputId": "d38fb5fb-5be2-4149-e89b-2ad70ab2f4fd"
      },
      "source": [
        "cnt = ep =0\n",
        "for i in range(len(y_pred)):\n",
        "    if i == 836:\n",
        "        break\n",
        "    ep += 1\n",
        "    y = list(yte)\n",
        "    if y[i] == None:\n",
        "        continue\n",
        "    if y_pred[i] == y[i]:\n",
        "        cnt += 1\n",
        "    #print(cnt, ep)\n",
        "print(cnt/len(yte))             #The accuracy obtained is displayed here"
      ],
      "execution_count": null,
      "outputs": [
        {
          "output_type": "stream",
          "name": "stdout",
          "text": [
            "0.061004784688995214\n"
          ]
        }
      ]
    },
    {
      "cell_type": "code",
      "metadata": {
        "colab": {
          "base_uri": "https://localhost:8080/"
        },
        "id": "1sgaaEzEDJUz",
        "outputId": "2e3f187a-0d60-4009-de50-59bdce20a740"
      },
      "source": [
        "len(y)"
      ],
      "execution_count": null,
      "outputs": [
        {
          "output_type": "execute_result",
          "data": {
            "text/plain": [
              "836"
            ]
          },
          "metadata": {},
          "execution_count": 23
        }
      ]
    }
  ]
}